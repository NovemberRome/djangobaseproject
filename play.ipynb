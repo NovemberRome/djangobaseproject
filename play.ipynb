{
 "cells": [
  {
   "cell_type": "code",
   "execution_count": null,
   "metadata": {},
   "outputs": [],
   "source": [
    "import json"
   ]
  },
  {
   "cell_type": "code",
   "execution_count": null,
   "metadata": {},
   "outputs": [],
   "source": [
    "from arche.helpers import path2cols"
   ]
  },
  {
   "cell_type": "code",
   "execution_count": null,
   "metadata": {},
   "outputs": [],
   "source": [
    "data = json.load(open(r\"C:\\Users\\pandorfer\\Downloads\\fileList.json\"))"
   ]
  },
  {
   "cell_type": "code",
   "execution_count": null,
   "metadata": {},
   "outputs": [],
   "source": [
    "for x in data:\n",
    "    filename = x['filename']\n",
    "    directory = x['directory']\n",
    "    file_type = x['type']\n",
    "    size = x['size']\n",
    "    valid = x['valid_file']\n",
    "    new_cols = path2cols(directory, '/')\n",
    "    res, _ = Resource.objects.get_or_create(\n",
    "        has_title=filename, has_filetype=file_type, file_size=size\n",
    "    )\n",
    "    try:\n",
    "        res.part_of = new_cols[0]\n",
    "    except:\n",
    "        pass\n",
    "#     print(res)\n",
    "#     print(new_cols)\n",
    "    res.save()    "
   ]
  },
  {
   "cell_type": "code",
   "execution_count": null,
   "metadata": {},
   "outputs": [],
   "source": [
    "new_cols"
   ]
  },
  {
   "cell_type": "code",
   "execution_count": null,
   "metadata": {},
   "outputs": [],
   "source": [
    "Collection.objects.all().delete()"
   ]
  },
  {
   "cell_type": "code",
   "execution_count": null,
   "metadata": {},
   "outputs": [],
   "source": [
    "Resource.objects.all().delete()"
   ]
  },
  {
   "cell_type": "code",
   "execution_count": null,
   "metadata": {},
   "outputs": [],
   "source": [
    "path = json.load(open(r\"C:\\Users\\pandorfer\\Downloads\\fileList.json\"))[55]['directory']\n",
    "print(path)\n",
    "separator = '/'"
   ]
  },
  {
   "cell_type": "code",
   "execution_count": null,
   "metadata": {},
   "outputs": [],
   "source": [
    "counter = 1\n",
    "current = 0\n",
    "cols = []\n",
    "path_parts = path.split(separator)[:-1]\n",
    "path_length = len(path_parts)\n",
    "prefix = path_length\n",
    "for x in reversed(path_parts):\n",
    "    print(prefix)\n",
    "    if prefix > 0:\n",
    "        col_title = '/'.join(path_parts[0:prefix])\n",
    "        print(col_title)\n",
    "        col, _ = Collection.objects.get_or_create(\n",
    "            has_title=col_title\n",
    "        )\n",
    "        cols.append(col)\n",
    "        prefix = prefix - 1\n",
    "    else:\n",
    "        pass\n",
    "    print(prefix)"
   ]
  },
  {
   "cell_type": "code",
   "execution_count": null,
   "metadata": {},
   "outputs": [],
   "source": []
  }
 ],
 "metadata": {
  "kernelspec": {
   "display_name": "Django Shell-Plus",
   "language": "python",
   "name": "django_extensions"
  },
  "language_info": {
   "codemirror_mode": {
    "name": "ipython",
    "version": 3
   },
   "file_extension": ".py",
   "mimetype": "text/x-python",
   "name": "python",
   "nbconvert_exporter": "python",
   "pygments_lexer": "ipython3",
   "version": "3.6.2"
  }
 },
 "nbformat": 4,
 "nbformat_minor": 2
}
