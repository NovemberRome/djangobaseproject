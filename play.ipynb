{
 "cells": [
  {
   "cell_type": "code",
   "execution_count": 6,
   "metadata": {},
   "outputs": [],
   "source": [
    "import json"
   ]
  },
  {
   "cell_type": "code",
   "execution_count": 7,
   "metadata": {},
   "outputs": [],
   "source": [
    "from arche.helpers import path2cols"
   ]
  },
  {
   "cell_type": "code",
   "execution_count": 8,
   "metadata": {},
   "outputs": [],
   "source": [
    "data = json.load(open(r\"C:\\Users\\pandorfer\\Downloads\\fileList.json\"))"
   ]
  },
  {
   "cell_type": "code",
   "execution_count": 9,
   "metadata": {},
   "outputs": [
    {
     "name": "stdout",
     "output_type": "stream",
     "text": [
      "00_Erläuterungen zu den Ordnern.pdf\n",
      "[<Collection: >, <Collection: r:\\container\\R_troesmis_6787_2\\01_Troesmis\\>]\n",
      "00_Erläuterungen zu den Ordnern.xlsx\n",
      "[<Collection: >, <Collection: r:\\container\\R_troesmis_6787_2\\01_Troesmis\\>]\n",
      "01_Troesmis_Dateiliste.xlsx\n",
      "[<Collection: >, <Collection: r:\\container\\R_troesmis_6787_2\\01_Troesmis\\>]\n",
      "01_Troesmis_Projektbezogene Metadaten.xlsx\n",
      "[<Collection: >, <Collection: r:\\container\\R_troesmis_6787_2\\01_Troesmis\\>]\n",
      "LIESMICH.txt\n",
      "[<Collection: >, <Collection: r:\\container\\R_troesmis_6787_2\\01_Troesmis\\>]\n",
      "01_Berichte_Publikationen_Ordnerbezogene Metadaten.xlsx\n",
      "[<Collection: >, <Collection: 01_Berichte_Publikationen>, <Collection: r:\\container\\R_troesmis_6787_2\\01_Troesmis\\>]\n",
      "1971_Zah_Eisenvorkommen in der Dobrudscha.pdf\n",
      "[<Collection: >, <Collection: 01_PDF>, <Collection: 01_Berichte_Publikationen>, <Collection: r:\\container\\R_troesmis_6787_2\\01_Troesmis\\>]\n",
      "1980_Simion_Troesmis_Peuce 8.pdf\n",
      "[<Collection: >, <Collection: 01_PDF>, <Collection: 01_Berichte_Publikationen>, <Collection: r:\\container\\R_troesmis_6787_2\\01_Troesmis\\>]\n",
      "2006_Aparaschivei_Troesmis.pdf\n",
      "[<Collection: >, <Collection: 01_PDF>, <Collection: 01_Berichte_Publikationen>, <Collection: r:\\container\\R_troesmis_6787_2\\01_Troesmis\\>]\n",
      "2013_Eck_Troesmis_Traducion-fuer Publikation-1-April-2013.pdf\n",
      "[<Collection: >, <Collection: 01_PDF>, <Collection: 01_Berichte_Publikationen>, <Collection: r:\\container\\R_troesmis_6787_2\\01_Troesmis\\>]\n",
      "2014-Eck_Lex-Troesemsium-Integration.pdf\n",
      "[<Collection: >, <Collection: 01_PDF>, <Collection: 01_Berichte_Publikationen>, <Collection: r:\\container\\R_troesmis_6787_2\\01_Troesmis\\>]\n",
      "2014_Alexandrescu, Gugl - Peuce, SN 12.pdf\n",
      "[<Collection: >, <Collection: 01_PDF>, <Collection: 01_Berichte_Publikationen>, <Collection: r:\\container\\R_troesmis_6787_2\\01_Troesmis\\>]\n",
      "2014_Alexandrescu_Marble_Analyses_of_Sculptures_from_the_Territory_of_Dobrudja.pdf\n",
      "[<Collection: >, <Collection: 01_PDF>, <Collection: 01_Berichte_Publikationen>, <Collection: r:\\container\\R_troesmis_6787_2\\01_Troesmis\\>]\n",
      "2014_Troesmis_ActaCarn50-57-libre.pdf\n",
      "[<Collection: >, <Collection: 01_PDF>, <Collection: 01_Berichte_Publikationen>, <Collection: r:\\container\\R_troesmis_6787_2\\01_Troesmis\\>]\n",
      "2014_Troesmis_ArchaoTagGraz_S11-20.pdf\n",
      "[<Collection: >, <Collection: 01_PDF>, <Collection: 01_Berichte_Publikationen>, <Collection: r:\\container\\R_troesmis_6787_2\\01_Troesmis\\>]\n",
      "2015_Alexandrescu_Gugl_Troesmis_Ruse 2012.pdf\n",
      "[<Collection: >, <Collection: 01_PDF>, <Collection: 01_Berichte_Publikationen>, <Collection: r:\\container\\R_troesmis_6787_2\\01_Troesmis\\>]\n",
      "2015_Eck_Akkulturation durch Recht.pdf\n",
      "[<Collection: >, <Collection: 01_PDF>, <Collection: 01_Berichte_Publikationen>, <Collection: r:\\container\\R_troesmis_6787_2\\01_Troesmis\\>]\n",
      "2016_Waldner_Gugl_Troesmis_Survey.pdf\n",
      "[<Collection: >, <Collection: 01_PDF>, <Collection: 01_Berichte_Publikationen>, <Collection: r:\\container\\R_troesmis_6787_2\\01_Troesmis\\>]\n",
      "Literaturliste_Troesmis_Niedermösien.pdf\n",
      "[<Collection: >, <Collection: 01_PDF>, <Collection: 01_Berichte_Publikationen>, <Collection: r:\\container\\R_troesmis_6787_2\\01_Troesmis\\>]\n",
      "2016_Gerald Grabherr, Barbara Kainrath_Troesmis_Tulcea.pdf\n",
      "[<Collection: >, <Collection: 01_PDF>, <Collection: 01_Berichte_Publikationen>, <Collection: r:\\container\\R_troesmis_6787_2\\01_Troesmis\\>]\n",
      "2016_Alexandrescu_Gugl_Kainrath_Troesmis-I.pdf\n",
      "[<Collection: >, <Collection: 01_PDF>, <Collection: 01_Berichte_Publikationen>, <Collection: r:\\container\\R_troesmis_6787_2\\01_Troesmis\\>]\n",
      "2016_Alexandrescu_Gugl_Troesmis_Tulcea.pdf\n",
      "[<Collection: >, <Collection: 01_PDF>, <Collection: 01_Berichte_Publikationen>, <Collection: r:\\container\\R_troesmis_6787_2\\01_Troesmis\\>]\n",
      "Gugl_Troesmis_Holzhausen-Antrag_1.pdf\n",
      "[<Collection: >, <Collection: 02_Antrag an Holzhausen-Legat>, <Collection: 01_Berichte_Publikationen>, <Collection: r:\\container\\R_troesmis_6787_2\\01_Troesmis\\>]\n",
      "Troesmis2013_Geophysik und Oberflächensurvey.tif\n",
      "[<Collection: >, <Collection: Abbildung>, <Collection: 02_Antrag an Holzhausen-Legat>, <Collection: 01_Berichte_Publikationen>, <Collection: r:\\container\\R_troesmis_6787_2\\01_Troesmis\\>]\n",
      "Thumbs.db\n",
      "[<Collection: >, <Collection: Abbildung>, <Collection: 02_Antrag an Holzhausen-Legat>, <Collection: 01_Berichte_Publikationen>, <Collection: r:\\container\\R_troesmis_6787_2\\01_Troesmis\\>]\n",
      "Bewillung und Gutachten.pdf\n",
      "[<Collection: >, <Collection: 03_ÖNB-Projekt>, <Collection: 01_Berichte_Publikationen>, <Collection: r:\\container\\R_troesmis_6787_2\\01_Troesmis\\>]\n",
      "Gugl_ÖNB-JF-16365_Abschlussbericht_1.pdf\n",
      "[<Collection: >, <Collection: 03_ÖNB-Projekt>, <Collection: 01_Berichte_Publikationen>, <Collection: r:\\container\\R_troesmis_6787_2\\01_Troesmis\\>]\n",
      "ÖNB-Antrag Troesmis_DE-4.pdf\n",
      "[<Collection: >, <Collection: 03_ÖNB-Projekt>, <Collection: 01_Berichte_Publikationen>, <Collection: r:\\container\\R_troesmis_6787_2\\01_Troesmis\\>]\n",
      "2011_Troesmis_Aktivitäten 2011.pdf\n",
      "[<Collection: >, <Collection: 04_Vorträge>, <Collection: 01_Berichte_Publikationen>, <Collection: r:\\container\\R_troesmis_6787_2\\01_Troesmis\\>]\n",
      "2012_Troesmis_Geologie_Proben.pdf\n",
      "[<Collection: >, <Collection: 04_Vorträge>, <Collection: 01_Berichte_Publikationen>, <Collection: r:\\container\\R_troesmis_6787_2\\01_Troesmis\\>]\n",
      "2012_Troesmis_Innsbruck.pdf\n",
      "[<Collection: >, <Collection: 04_Vorträge>, <Collection: 01_Berichte_Publikationen>, <Collection: r:\\container\\R_troesmis_6787_2\\01_Troesmis\\>]\n",
      "2015_Troesmis_Basel-1.pdf\n",
      "[<Collection: >, <Collection: 04_Vorträge>, <Collection: 01_Berichte_Publikationen>, <Collection: r:\\container\\R_troesmis_6787_2\\01_Troesmis\\>]\n",
      "2015_Alexandrescu_Gugl_Troesmis_Tulcea-7.pdf\n",
      "[<Collection: >, <Collection: 2015_Kongress Tulcea>, <Collection: 04_Vorträge>, <Collection: 01_Berichte_Publikationen>, <Collection: r:\\container\\R_troesmis_6787_2\\01_Troesmis\\>]\n",
      "2015_Alexandrescu_lithics.pdf\n",
      "[<Collection: >, <Collection: 2015_Kongress Tulcea>, <Collection: 04_Vorträge>, <Collection: 01_Berichte_Publikationen>, <Collection: r:\\container\\R_troesmis_6787_2\\01_Troesmis\\>]\n",
      "2015_Grabherr_Kainrath_Geophysik in Troesmis.pdf\n",
      "[<Collection: >, <Collection: 2015_Kongress Tulcea>, <Collection: 04_Vorträge>, <Collection: 01_Berichte_Publikationen>, <Collection: r:\\container\\R_troesmis_6787_2\\01_Troesmis\\>]\n",
      "2015_Waldner_Troesmis_Tulcea-3.pdf\n",
      "[<Collection: >, <Collection: 2015_Kongress Tulcea>, <Collection: 04_Vorträge>, <Collection: 01_Berichte_Publikationen>, <Collection: r:\\container\\R_troesmis_6787_2\\01_Troesmis\\>]\n",
      "02_Hardware_Software_Ordnerbezogene Metadaten.xlsx\n",
      "[<Collection: >, <Collection: 02_Hardware_Software>, <Collection: r:\\container\\R_troesmis_6787_2\\01_Troesmis\\>]\n",
      "GeoExpl2005GettingStartedGuide.pdf\n",
      "[<Collection: >, <Collection: 01_Vermessung>, <Collection: 01_Hardware>, <Collection: 02_Hardware_Software>, <Collection: r:\\container\\R_troesmis_6787_2\\01_Troesmis\\>]\n",
      "Leica TPS SmartStation Package.pdf\n",
      "[<Collection: >, <Collection: 01_Vermessung>, <Collection: 01_Hardware>, <Collection: 02_Hardware_Software>, <Collection: r:\\container\\R_troesmis_6787_2\\01_Troesmis\\>]\n",
      "Leica Viva TS11 Datasheet_de.pdf\n",
      "[<Collection: >, <Collection: 01_Vermessung>, <Collection: 01_Hardware>, <Collection: 02_Hardware_Software>, <Collection: r:\\container\\R_troesmis_6787_2\\01_Troesmis\\>]\n",
      "Leica Viva-GS14-SmartRover.pdf\n",
      "[<Collection: >, <Collection: 01_Vermessung>, <Collection: 01_Hardware>, <Collection: 02_Hardware_Software>, <Collection: r:\\container\\R_troesmis_6787_2\\01_Troesmis\\>]\n",
      "Leica_Zeno_10_Zeno_15_DS_de.pdf\n",
      "[<Collection: >, <Collection: 01_Vermessung>, <Collection: 01_Hardware>, <Collection: 02_Hardware_Software>, <Collection: r:\\container\\R_troesmis_6787_2\\01_Troesmis\\>]\n",
      "Trimble_M3.pdf\n",
      "[<Collection: >, <Collection: 01_Vermessung>, <Collection: 01_Hardware>, <Collection: 02_Hardware_Software>, <Collection: r:\\container\\R_troesmis_6787_2\\01_Troesmis\\>]\n",
      "Sensys_datenblatt_dlm98_de.pdf\n",
      "[<Collection: >, <Collection: 02_Magnetik>, <Collection: 01_Hardware>, <Collection: 02_Hardware_Software>, <Collection: r:\\container\\R_troesmis_6787_2\\01_Troesmis\\>]\n",
      "mala-groundexplorer.pdf\n",
      "[<Collection: >, <Collection: 03_GPR>, <Collection: 01_Hardware>, <Collection: 02_Hardware_Software>, <Collection: r:\\container\\R_troesmis_6787_2\\01_Troesmis\\>]\n",
      "Riegl_10_DataSheet_TLS_VZ-400_2014-09-19.pdf\n",
      "[<Collection: >, <Collection: 04_TLS>, <Collection: 01_Hardware>, <Collection: 02_Hardware_Software>, <Collection: r:\\container\\R_troesmis_6787_2\\01_Troesmis\\>]\n",
      "DJI Phantom 2 Vision Plus.pdf\n",
      "[<Collection: >, <Collection: 05_Multikopter_StructureFromMotion>, <Collection: 01_Hardware>, <Collection: 02_Hardware_Software>, <Collection: r:\\container\\R_troesmis_6787_2\\01_Troesmis\\>]\n"
     ]
    },
    {
     "name": "stdout",
     "output_type": "stream",
     "text": [
      "DJI Phantom 3 Professional.pdf\n",
      "[<Collection: >, <Collection: 05_Multikopter_StructureFromMotion>, <Collection: 01_Hardware>, <Collection: 02_Hardware_Software>, <Collection: r:\\container\\R_troesmis_6787_2\\01_Troesmis\\>]\n",
      "DJI Spreading Wings S1000.pdf\n",
      "[<Collection: >, <Collection: 05_Multikopter_StructureFromMotion>, <Collection: 01_Hardware>, <Collection: 02_Hardware_Software>, <Collection: r:\\container\\R_troesmis_6787_2\\01_Troesmis\\>]\n",
      "Holux Technology.pdf\n",
      "[<Collection: >, <Collection: 06_Survey>, <Collection: 01_Hardware>, <Collection: 02_Hardware_Software>, <Collection: r:\\container\\R_troesmis_6787_2\\01_Troesmis\\>]\n",
      "Navin miniHomer 2.pdf\n",
      "[<Collection: >, <Collection: 06_Survey>, <Collection: 01_Hardware>, <Collection: 02_Hardware_Software>, <Collection: r:\\container\\R_troesmis_6787_2\\01_Troesmis\\>]\n",
      "Samsung Galaxy Note 4 - Test - CHIP.pdf\n",
      "[<Collection: >, <Collection: 06_Survey>, <Collection: 01_Hardware>, <Collection: 02_Hardware_Software>, <Collection: r:\\container\\R_troesmis_6787_2\\01_Troesmis\\>]\n",
      "Factsheet_TachyCAD_Archaeology.pdf\n",
      "[<Collection: >, <Collection: 01_GIS_CAD>, <Collection: 02_Software>, <Collection: 02_Hardware_Software>, <Collection: r:\\container\\R_troesmis_6787_2\\01_Troesmis\\>]\n",
      "Global Mapper - Wikipedia, the free encyclopedia.pdf\n",
      "[<Collection: >, <Collection: 01_GIS_CAD>, <Collection: 02_Software>, <Collection: 02_Hardware_Software>, <Collection: r:\\container\\R_troesmis_6787_2\\01_Troesmis\\>]\n",
      "Manifold System - Wikipedia, the free encyclopedia.pdf\n",
      "[<Collection: >, <Collection: 01_GIS_CAD>, <Collection: 02_Software>, <Collection: 02_Hardware_Software>, <Collection: r:\\container\\R_troesmis_6787_2\\01_Troesmis\\>]\n",
      "E_01_Troesmis_02_Hardware_Software_02_Software_02_Magnetik_PI_MAGNETO_DE.pdf\n",
      "[<Collection: >, <Collection: 02_Magnetik>, <Collection: 02_Software>, <Collection: 02_Hardware_Software>, <Collection: r:\\container\\R_troesmis_6787_2\\01_Troesmis\\>]\n",
      "http_www.sandmeier-geo.de_reflexw.pdf\n",
      "[<Collection: >, <Collection: 03_GPR>, <Collection: 02_Software>, <Collection: 02_Hardware_Software>, <Collection: r:\\container\\R_troesmis_6787_2\\01_Troesmis\\>]\n",
      "Riegl_DataSheet_RiSCAN-PRO_2016-09-19.pdf\n",
      "[<Collection: >, <Collection: 04_TLS>, <Collection: 02_Software>, <Collection: 02_Hardware_Software>, <Collection: r:\\container\\R_troesmis_6787_2\\01_Troesmis\\>]\n",
      "Locus Pro - das umfangreiche GPS-Tool - Android Apps im Test - AndroidPIT.pdf\n",
      "[<Collection: >, <Collection: 05_Survey>, <Collection: 02_Software>, <Collection: 02_Hardware_Software>, <Collection: r:\\container\\R_troesmis_6787_2\\01_Troesmis\\>]\n",
      "03_SE_Liste_Ordnerbezogene Metadaten.xlsx\n",
      "[<Collection: >, <Collection: 03_SE_Liste>, <Collection: r:\\container\\R_troesmis_6787_2\\01_Troesmis\\>]\n",
      "ad Troesmis2011_SE-Liste.pdf\n",
      "[<Collection: >, <Collection: 01_Kampagne_2011>, <Collection: 03_SE_Liste>, <Collection: r:\\container\\R_troesmis_6787_2\\01_Troesmis\\>]\n",
      "img-923182139-0001.tif\n",
      "[<Collection: >, <Collection: 01_Kampagne_2011>, <Collection: 03_SE_Liste>, <Collection: r:\\container\\R_troesmis_6787_2\\01_Troesmis\\>]\n",
      "img-923182139-0003.tif\n",
      "[<Collection: >, <Collection: 01_Kampagne_2011>, <Collection: 03_SE_Liste>, <Collection: r:\\container\\R_troesmis_6787_2\\01_Troesmis\\>]\n",
      "img-923182139-0005.tif\n",
      "[<Collection: >, <Collection: 01_Kampagne_2011>, <Collection: 03_SE_Liste>, <Collection: r:\\container\\R_troesmis_6787_2\\01_Troesmis\\>]\n",
      "SE-Vergabelisten.pdf\n",
      "[<Collection: >, <Collection: 01_Kampagne_2011>, <Collection: 03_SE_Liste>, <Collection: r:\\container\\R_troesmis_6787_2\\01_Troesmis\\>]\n",
      "Troesmis2011_SE-Liste.pdf\n",
      "[<Collection: >, <Collection: 01_Kampagne_2011>, <Collection: 03_SE_Liste>, <Collection: r:\\container\\R_troesmis_6787_2\\01_Troesmis\\>]\n",
      "04_SE_Protokollblaetter_Ordnerbezogene Metadaten.xlsx\n",
      "[<Collection: >, <Collection: 04_SE_Protokollblaetter>, <Collection: r:\\container\\R_troesmis_6787_2\\01_Troesmis\\>]\n",
      "SE-Blätter 0002-0070.pdf\n",
      "[<Collection: >, <Collection: 01_Kampagne_2011>, <Collection: 04_SE_Protokollblaetter>, <Collection: r:\\container\\R_troesmis_6787_2\\01_Troesmis\\>]\n",
      "TROESMIS_2011_SE-Blätter.pdf\n",
      "[<Collection: >, <Collection: 01_Kampagne_2011>, <Collection: 04_SE_Protokollblaetter>, <Collection: r:\\container\\R_troesmis_6787_2\\01_Troesmis\\>]\n",
      "img-923180548-0001.tif\n",
      "[<Collection: >, <Collection: SE-Blätter 0002-0070>, <Collection: 01_Kampagne_2011>, <Collection: 04_SE_Protokollblaetter>, <Collection: r:\\container\\R_troesmis_6787_2\\01_Troesmis\\>]\n",
      "img-923180548-0002.tif\n",
      "[<Collection: >, <Collection: SE-Blätter 0002-0070>, <Collection: 01_Kampagne_2011>, <Collection: 04_SE_Protokollblaetter>, <Collection: r:\\container\\R_troesmis_6787_2\\01_Troesmis\\>]\n",
      "img-923180548-0003.tif\n",
      "[<Collection: >, <Collection: SE-Blätter 0002-0070>, <Collection: 01_Kampagne_2011>, <Collection: 04_SE_Protokollblaetter>, <Collection: r:\\container\\R_troesmis_6787_2\\01_Troesmis\\>]\n",
      "img-923180548-0004.tif\n",
      "[<Collection: >, <Collection: SE-Blätter 0002-0070>, <Collection: 01_Kampagne_2011>, <Collection: 04_SE_Protokollblaetter>, <Collection: r:\\container\\R_troesmis_6787_2\\01_Troesmis\\>]\n",
      "img-923180548-0005.tif\n",
      "[<Collection: >, <Collection: SE-Blätter 0002-0070>, <Collection: 01_Kampagne_2011>, <Collection: 04_SE_Protokollblaetter>, <Collection: r:\\container\\R_troesmis_6787_2\\01_Troesmis\\>]\n",
      "img-923180548-0006.tif\n",
      "[<Collection: >, <Collection: SE-Blätter 0002-0070>, <Collection: 01_Kampagne_2011>, <Collection: 04_SE_Protokollblaetter>, <Collection: r:\\container\\R_troesmis_6787_2\\01_Troesmis\\>]\n",
      "img-923180548-0007.tif\n",
      "[<Collection: >, <Collection: SE-Blätter 0002-0070>, <Collection: 01_Kampagne_2011>, <Collection: 04_SE_Protokollblaetter>, <Collection: r:\\container\\R_troesmis_6787_2\\01_Troesmis\\>]\n",
      "img-923180548-0008.tif\n",
      "[<Collection: >, <Collection: SE-Blätter 0002-0070>, <Collection: 01_Kampagne_2011>, <Collection: 04_SE_Protokollblaetter>, <Collection: r:\\container\\R_troesmis_6787_2\\01_Troesmis\\>]\n",
      "img-923180548-0009.tif\n",
      "[<Collection: >, <Collection: SE-Blätter 0002-0070>, <Collection: 01_Kampagne_2011>, <Collection: 04_SE_Protokollblaetter>, <Collection: r:\\container\\R_troesmis_6787_2\\01_Troesmis\\>]\n",
      "img-923180548-0010.tif\n",
      "[<Collection: >, <Collection: SE-Blätter 0002-0070>, <Collection: 01_Kampagne_2011>, <Collection: 04_SE_Protokollblaetter>, <Collection: r:\\container\\R_troesmis_6787_2\\01_Troesmis\\>]\n",
      "img-923180548-0011.tif\n",
      "[<Collection: >, <Collection: SE-Blätter 0002-0070>, <Collection: 01_Kampagne_2011>, <Collection: 04_SE_Protokollblaetter>, <Collection: r:\\container\\R_troesmis_6787_2\\01_Troesmis\\>]\n",
      "img-923180548-0012.tif\n",
      "[<Collection: >, <Collection: SE-Blätter 0002-0070>, <Collection: 01_Kampagne_2011>, <Collection: 04_SE_Protokollblaetter>, <Collection: r:\\container\\R_troesmis_6787_2\\01_Troesmis\\>]\n",
      "img-923180548-0013.tif\n",
      "[<Collection: >, <Collection: SE-Blätter 0002-0070>, <Collection: 01_Kampagne_2011>, <Collection: 04_SE_Protokollblaetter>, <Collection: r:\\container\\R_troesmis_6787_2\\01_Troesmis\\>]\n",
      "img-923180548-0014.tif\n",
      "[<Collection: >, <Collection: SE-Blätter 0002-0070>, <Collection: 01_Kampagne_2011>, <Collection: 04_SE_Protokollblaetter>, <Collection: r:\\container\\R_troesmis_6787_2\\01_Troesmis\\>]\n",
      "img-923180548-0015.tif\n",
      "[<Collection: >, <Collection: SE-Blätter 0002-0070>, <Collection: 01_Kampagne_2011>, <Collection: 04_SE_Protokollblaetter>, <Collection: r:\\container\\R_troesmis_6787_2\\01_Troesmis\\>]\n",
      "img-923180548-0016.tif\n",
      "[<Collection: >, <Collection: SE-Blätter 0002-0070>, <Collection: 01_Kampagne_2011>, <Collection: 04_SE_Protokollblaetter>, <Collection: r:\\container\\R_troesmis_6787_2\\01_Troesmis\\>]\n",
      "img-923180548-0017.tif\n",
      "[<Collection: >, <Collection: SE-Blätter 0002-0070>, <Collection: 01_Kampagne_2011>, <Collection: 04_SE_Protokollblaetter>, <Collection: r:\\container\\R_troesmis_6787_2\\01_Troesmis\\>]\n",
      "img-923180548-0018.tif\n",
      "[<Collection: >, <Collection: SE-Blätter 0002-0070>, <Collection: 01_Kampagne_2011>, <Collection: 04_SE_Protokollblaetter>, <Collection: r:\\container\\R_troesmis_6787_2\\01_Troesmis\\>]\n",
      "img-923180548-0019.tif\n",
      "[<Collection: >, <Collection: SE-Blätter 0002-0070>, <Collection: 01_Kampagne_2011>, <Collection: 04_SE_Protokollblaetter>, <Collection: r:\\container\\R_troesmis_6787_2\\01_Troesmis\\>]\n",
      "img-923181220-0001.tif\n",
      "[<Collection: >, <Collection: SE-Blätter 0002-0070>, <Collection: 01_Kampagne_2011>, <Collection: 04_SE_Protokollblaetter>, <Collection: r:\\container\\R_troesmis_6787_2\\01_Troesmis\\>]\n",
      "img-923181220-0002.tif\n",
      "[<Collection: >, <Collection: SE-Blätter 0002-0070>, <Collection: 01_Kampagne_2011>, <Collection: 04_SE_Protokollblaetter>, <Collection: r:\\container\\R_troesmis_6787_2\\01_Troesmis\\>]\n"
     ]
    },
    {
     "name": "stdout",
     "output_type": "stream",
     "text": [
      "img-923181220-0003.tif\n",
      "[<Collection: >, <Collection: SE-Blätter 0002-0070>, <Collection: 01_Kampagne_2011>, <Collection: 04_SE_Protokollblaetter>, <Collection: r:\\container\\R_troesmis_6787_2\\01_Troesmis\\>]\n",
      "img-923181220-0004.tif\n",
      "[<Collection: >, <Collection: SE-Blätter 0002-0070>, <Collection: 01_Kampagne_2011>, <Collection: 04_SE_Protokollblaetter>, <Collection: r:\\container\\R_troesmis_6787_2\\01_Troesmis\\>]\n",
      "img-923181220-0005.tif\n",
      "[<Collection: >, <Collection: SE-Blätter 0002-0070>, <Collection: 01_Kampagne_2011>, <Collection: 04_SE_Protokollblaetter>, <Collection: r:\\container\\R_troesmis_6787_2\\01_Troesmis\\>]\n",
      "img-923181220-0006.tif\n",
      "[<Collection: >, <Collection: SE-Blätter 0002-0070>, <Collection: 01_Kampagne_2011>, <Collection: 04_SE_Protokollblaetter>, <Collection: r:\\container\\R_troesmis_6787_2\\01_Troesmis\\>]\n",
      "img-923181220-0007.tif\n",
      "[<Collection: >, <Collection: SE-Blätter 0002-0070>, <Collection: 01_Kampagne_2011>, <Collection: 04_SE_Protokollblaetter>, <Collection: r:\\container\\R_troesmis_6787_2\\01_Troesmis\\>]\n",
      "img-923181220-0008.tif\n",
      "[<Collection: >, <Collection: SE-Blätter 0002-0070>, <Collection: 01_Kampagne_2011>, <Collection: 04_SE_Protokollblaetter>, <Collection: r:\\container\\R_troesmis_6787_2\\01_Troesmis\\>]\n",
      "img-923181220-0009.tif\n",
      "[<Collection: >, <Collection: SE-Blätter 0002-0070>, <Collection: 01_Kampagne_2011>, <Collection: 04_SE_Protokollblaetter>, <Collection: r:\\container\\R_troesmis_6787_2\\01_Troesmis\\>]\n",
      "img-923181220-0010.tif\n",
      "[<Collection: >, <Collection: SE-Blätter 0002-0070>, <Collection: 01_Kampagne_2011>, <Collection: 04_SE_Protokollblaetter>, <Collection: r:\\container\\R_troesmis_6787_2\\01_Troesmis\\>]\n",
      "img-923181220-0011.tif\n",
      "[<Collection: >, <Collection: SE-Blätter 0002-0070>, <Collection: 01_Kampagne_2011>, <Collection: 04_SE_Protokollblaetter>, <Collection: r:\\container\\R_troesmis_6787_2\\01_Troesmis\\>]\n",
      "img-923181220-0012.tif\n",
      "[<Collection: >, <Collection: SE-Blätter 0002-0070>, <Collection: 01_Kampagne_2011>, <Collection: 04_SE_Protokollblaetter>, <Collection: r:\\container\\R_troesmis_6787_2\\01_Troesmis\\>]\n"
     ]
    }
   ],
   "source": [
    "for x in data[:100]:\n",
    "    filename = x['filename']\n",
    "    directory = x['directory']\n",
    "    file_type = x['type']\n",
    "    size = x['size']\n",
    "    valid = x['valid_file']\n",
    "    new_cols = path2cols(directory, '/')\n",
    "    res, _ = Resource.objects.get_or_create(\n",
    "        has_title=filename, has_filetype=file_type, file_size=size\n",
    "    )\n",
    "    try:\n",
    "        res.part_of = new_cols[1]\n",
    "    except:\n",
    "        pass\n",
    "    print(res)\n",
    "    print(new_cols)\n",
    "    res.save()\n",
    "\n",
    "    "
   ]
  },
  {
   "cell_type": "code",
   "execution_count": null,
   "metadata": {},
   "outputs": [],
   "source": [
    "new_cols"
   ]
  },
  {
   "cell_type": "code",
   "execution_count": 5,
   "metadata": {},
   "outputs": [
    {
     "data": {
      "text/plain": [
       "(124,\n",
       " {'arche.Collection': 24,\n",
       "  'arche.Collection_has_contributor': 0,\n",
       "  'arche.Project_related_collection': 0,\n",
       "  'arche.Resource': 100,\n",
       "  'arche.Resource_has_creator': 0})"
      ]
     },
     "execution_count": 5,
     "metadata": {},
     "output_type": "execute_result"
    }
   ],
   "source": [
    "Collection.objects.all().delete()"
   ]
  },
  {
   "cell_type": "code",
   "execution_count": null,
   "metadata": {},
   "outputs": [],
   "source": [
    " path2cols(r'C:\\Users\\pandorfer\\Downloads\\fileList.json', r'\\')"
   ]
  },
  {
   "cell_type": "code",
   "execution_count": null,
   "metadata": {},
   "outputs": [],
   "source": [
    "Resource.objects.all().delete()"
   ]
  },
  {
   "cell_type": "code",
   "execution_count": null,
   "metadata": {},
   "outputs": [],
   "source": [
    "def create_acdhids(resource, joiner=\"/\", base_url='https://id.acdh.oeaw.ac.at'):\n",
    "    path = \"{}\".format(resource.part_of)\n",
    "    name = \"{}\".format(resource.has_title)\n",
    "    acdhid = joiner.join([base_url, path, name])\n",
    "    return acdhid    "
   ]
  },
  {
   "cell_type": "code",
   "execution_count": null,
   "metadata": {},
   "outputs": [],
   "source": [
    "for x in Collection.objects.all():\n",
    "    print(create_acdhids(x, \"/\"))"
   ]
  },
  {
   "cell_type": "code",
   "execution_count": null,
   "metadata": {},
   "outputs": [],
   "source": [
    "path = \"r:\\\\container\\\\R_troesmis_6787_2\\\\01_Troesmis\\\\\\/00_Erl\\u00e4uterungen zu den Ordnern.pdf\""
   ]
  },
  {
   "cell_type": "code",
   "execution_count": null,
   "metadata": {},
   "outputs": [],
   "source": [
    "for x in reversed(path.split(\"/\")):\n",
    "    print(x)\n",
    "    print('XXX')"
   ]
  },
  {
   "cell_type": "code",
   "execution_count": null,
   "metadata": {},
   "outputs": [],
   "source": []
  }
 ],
 "metadata": {
  "kernelspec": {
   "display_name": "Django Shell-Plus",
   "language": "python",
   "name": "django_extensions"
  },
  "language_info": {
   "codemirror_mode": {
    "name": "ipython",
    "version": 3
   },
   "file_extension": ".py",
   "mimetype": "text/x-python",
   "name": "python",
   "nbconvert_exporter": "python",
   "pygments_lexer": "ipython3",
   "version": "3.6.2"
  }
 },
 "nbformat": 4,
 "nbformat_minor": 2
}
